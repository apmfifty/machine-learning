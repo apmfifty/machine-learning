{
 "cells": [
  {
   "cell_type": "markdown",
   "metadata": {},
   "source": [
    "## make the Terrain Data\n",
    "###  1. create random value and calc the label\n",
    "###  2. split to train & test data \n"
   ]
  },
  {
   "cell_type": "code",
   "execution_count": 36,
   "metadata": {
    "collapsed": false
   },
   "outputs": [
    {
     "data": {
      "text/plain": [
       "([[0.4975365687586023, 0.9153921598736201],\n",
       "  [0.2661737230725406, 0.9624532167911902],\n",
       "  [0.6374111614436909, 0.6931477606588518],\n",
       "  [0.24247975418376266, 0.8249037141670215],\n",
       "  [0.4731685799874552, 0.7938285744978436],\n",
       "  [0.9703361491117534, 0.6431235882103946],\n",
       "  [0.08518806501099674, 0.43029214446042363],\n",
       "  [0.31737891751820513, 0.2272211040366383],\n",
       "  [0.6764439534894834, 0.26618017106327707],\n",
       "  [0.0852413172296076, 0.9300172137798001],\n",
       "  [0.15331752856953773, 0.7000659032477788],\n",
       "  [0.8252738498040315, 0.10579514653289779],\n",
       "  [0.9797228526139108, 0.9108122843705956],\n",
       "  [0.3193386437176482, 0.2710858352944323],\n",
       "  [0.18896898678495433, 0.6924618004350633]],\n",
       " [1.0, 1.0, 1.0, 1.0, 1.0, 1.0, 0.0, 0.0, 1.0, 1.0, 0.0, 1.0, 1.0, 0.0, 0.0],\n",
       " [[0.9723752503414661, 0.4599922159807449],\n",
       "  [0.3289191945502741, 0.26966362910775055],\n",
       "  [0.6037845231084645, 0.2092539856889395],\n",
       "  [0.6074942084317443, 0.5790755087347463],\n",
       "  [0.6349887556504961, 0.41176567735033565]],\n",
       " [1.0, 0.0, 0.0, 1.0, 1.0])"
      ]
     },
     "execution_count": 36,
     "metadata": {},
     "output_type": "execute_result"
    }
   ],
   "source": [
    "import random\n",
    "def makeTerrainData(n_points=1000):\n",
    "#make the toy dataset\n",
    "    random.seed(50)\n",
    "    grade=[random.random() for ii in range(0,n_points)]\n",
    "    bumpy=[random.random() for ii in range(0,n_points)]    \n",
    "    error=[random.random() for ii in range(0,n_points)]    \n",
    "    y=[round(grade[ii]*bumpy[ii]+0.3+0.1*error[ii]) for ii in range(0,n_points)]\n",
    "    for ii in range(0,len(y)):\n",
    "        if grade[ii]>0.8 or bumpy[ii]>0.8:\n",
    "            y[ii]=1.0\n",
    "\n",
    "#split into train/test sets\n",
    "    X=[[gg,ss] for gg,ss in zip(grade,bumpy)]\n",
    "    split=int(0.75*n_points)\n",
    "    X_train=X[0:split]\n",
    "    X_test=X[split:]\n",
    "    y_train=y[0:split]\n",
    "    y_test=y[split:]\n",
    "    \n",
    "    return X_train,y_train,X_test,y_test\n",
    "\n",
    "makeTerrainData(20)"
   ]
  },
  {
   "cell_type": "markdown",
   "metadata": {},
   "source": [
    "### 1. import the sklearn module for GaussianNB\n",
    "### 2. create classifier\n",
    "### 3. fit the classifier on the training features and labels\n",
    "### 4. return the fit classifier"
   ]
  },
  {
   "cell_type": "code",
   "execution_count": 37,
   "metadata": {
    "collapsed": true
   },
   "outputs": [],
   "source": [
    "from sklearn.naive_bayes import GaussianNB\n",
    "def classify(features_train, labels_train):   \n",
    "    ### import the sklearn module for GaussianNB\n",
    "    ### create classifier\n",
    "    ### fit the classifier on the training features and labels\n",
    "    ### return the fit classifier\n",
    "    \n",
    "    \n",
    "    ### your code goes here!\n",
    "\n",
    "    clf=GaussianNB()\n",
    "    clf.fit(features_train,labels_train)\n",
    "    return clf"
   ]
  },
  {
   "cell_type": "code",
   "execution_count": 82,
   "metadata": {
    "collapsed": false
   },
   "outputs": [
    {
     "data": {
      "image/png": "[encoded data removed]",
      "text/plain": [
       "<matplotlib.figure.Figure at 0x111b706d0>"
      ]
     },
     "metadata": {},
     "output_type": "display_data"
    }
   ],
   "source": [
    "#!/usr/bin/python\n",
    "\n",
    "\"\"\" Complete the code in ClassifyNB.py with the sklearn\n",
    "    Naive Bayes classifier to classify the terrain data.\n",
    "    \n",
    "    The objective of this exercise is to recreate the decision \n",
    "    boundary found in the lesson video, and make a plot that\n",
    "    visually shows the decision boundary \"\"\"\n",
    "\n",
    "\n",
    "# from prep_terrain_data import makeTerrainData\n",
    "# from class_vis import prettyPicture, output_image\n",
    "# from ClassifyNB import classify\n",
    "%matplotlib inline\n",
    "import numpy as np\n",
    "import pylab as pl\n",
    "\n",
    "\n",
    "features_train, labels_train, features_test, labels_test = makeTerrainData()\n",
    "\n",
    "### the training data (features_train, labels_train) have both \"fast\" and \"slow\" points mixed\n",
    "### in together--separate them so we can give them different colors in the scatterplot,\n",
    "### and visually identify them\n",
    "grade_fast = [features_train[ii][0] for ii in range(0, len(features_train)) if labels_train[ii]==0]\n",
    "bumpy_fast = [features_train[ii][1] for ii in range(0, len(features_train)) if labels_train[ii]==0]\n",
    "grade_slow = [features_train[ii][0] for ii in range(0, len(features_train)) if labels_train[ii]==1]\n",
    "bumpy_slow = [features_train[ii][1] for ii in range(0, len(features_train)) if labels_train[ii]==1]\n",
    "\n",
    "\n",
    "# You will need to complete this function imported from the ClassifyNB script.\n",
    "# Be sure to change to that code tab to complete this quiz.\n",
    "clf = classify(features_train, labels_train)\n",
    "\n",
    "\n",
    "###先用meshgrid将所有的坐标点画出来，然后再将颜色涂色\n",
    "### draw the decision boundary with the text points overlaid \n",
    "# prettyPicture(clf, features_test, labels_test)\n",
    "# output_image(\"test.png\", \"png\", open(\"test.png\", \"rb\").read())\n",
    "\n",
    "\n",
    "import matplotlib\n",
    "import matplotlib.pyplot as plt\n",
    "import numpy as np\n",
    "\n",
    "x_min=0.0;x_max=1.0;\n",
    "y_min=0.0;y_max=1.0;\n",
    "h=.01\n",
    "xx,yy=np.meshgrid(np.arange(x_min,x_max,h),np.arange(y_min,y_max,h))\n",
    "\n",
    "Z = clf.predict(np.c_[xx.ravel(), yy.ravel()])\n",
    "Z = Z.reshape(xx.shape)\n",
    "\n",
    "plt.xlim(xx.min(), xx.max())\n",
    "plt.ylim(yy.min(), yy.max())\n",
    "\n",
    "\n",
    "plt.pcolormesh(xx, yy, Z, cmap=pl.cm.seismic)\n",
    "# plt.show()\n",
    "# Plot also the test points\n",
    "X_test=features_test\n",
    "y_test=labels_test\n",
    "grade_sig = [X_test[ii][0] for ii in range(0, len(X_test)) if y_test[ii]==0]\n",
    "bumpy_sig = [X_test[ii][1] for ii in range(0, len(X_test)) if y_test[ii]==0]\n",
    "grade_bkg = [X_test[ii][0] for ii in range(0, len(X_test)) if y_test[ii]==1]\n",
    "bumpy_bkg = [X_test[ii][1] for ii in range(0, len(X_test)) if y_test[ii]==1]\n",
    "\n",
    "plt.scatter(grade_sig, bumpy_sig, color = \"b\", label=\"fast\")\n",
    "plt.scatter(grade_bkg, bumpy_bkg, color = \"r\", label=\"slow\")\n",
    "\n",
    "plt.legend()\n",
    "plt.xlabel(\"bumpiness\")\n",
    "plt.ylabel(\"grade\")\n",
    "plt.show()"
   ]
  },
  {
   "cell_type": "code",
   "execution_count": null,
   "metadata": {
    "collapsed": true
   },
   "outputs": [],
   "source": []
  }
 ],
 "metadata": {
  "anaconda-cloud": {},
  "kernelspec": {
   "display_name": "Python [Root]",
   "language": "python",
   "name": "Python [Root]"
  },
  "language_info": {
   "codemirror_mode": {
    "name": "ipython",
    "version": 2
   },
   "file_extension": ".py",
   "mimetype": "text/x-python",
   "name": "python",
   "nbconvert_exporter": "python",
   "pygments_lexer": "ipython2",
   "version": "2.7.12"
  }
 },
 "nbformat": 4,
 "nbformat_minor": 0
}
