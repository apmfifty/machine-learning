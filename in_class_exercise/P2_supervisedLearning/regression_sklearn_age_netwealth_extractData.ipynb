{
 "cells": [
  {
   "cell_type": "code",
   "execution_count": 1,
   "metadata": {
    "collapsed": true
   },
   "outputs": [],
   "source": [
    "import numpy \n",
    "import random\n",
    "import matplotlib.pyplot as plt\n",
    "from sklearn.cross_validation import train_test_split\n",
    "%matplotlib inline"
   ]
  },
  {
   "cell_type": "code",
   "execution_count": 13,
   "metadata": {
    "collapsed": false
   },
   "outputs": [],
   "source": [
    "def ageNetWorthData():\n",
    "    numpy.random.seed(40)\n",
    "    random.seed(40)\n",
    "    age=[]\n",
    "    for ii in range(100):\n",
    "        age.append(random.randint(20,65))\n",
    "    net_worth=[ii*6.25+numpy.random.normal(scale=30) for ii in age]\n",
    "    age=numpy.reshape(numpy.array(age),(len(age),1))\n",
    "    net_worth=numpy.reshape(numpy.array(net_worth),(len(net_worth),1))\n",
    "    age_train,age_test, net_worth_train,net_worth_test=train_test_split(age,net_worth)\n",
    "#     print(age.shape)\n",
    "#     print(net_worth.shape)\n",
    "#     plt.plot(age,net_worth,'*')\n",
    "#     plt.show()\n",
    "    return age_train,age_test, net_worth_train,net_worth_test\n",
    "age_train,age_test, net_worth_train,net_worth_test=ageNetWorthData()"
   ]
  },
  {
   "cell_type": "code",
   "execution_count": 24,
   "metadata": {
    "collapsed": false
   },
   "outputs": [
    {
     "data": {
      "text/plain": [
       "{'intercept': array([ 17.32909124]),\n",
       " 'networth': array([[ 175.98831776]]),\n",
       " 'slope': array([[ 5.87626765]]),\n",
       " 'stats on test': 0.90558731800343484,\n",
       " 'stats on training': 0.89063868288804438}"
      ]
     },
     "execution_count": 24,
     "metadata": {},
     "output_type": "execute_result"
    }
   ],
   "source": [
    "from sklearn.linear_model import LinearRegression\n",
    "ages_train,ages_test, net_worths_train,net_worths_test=ageNetWorthData()\n",
    "reg=LinearRegression()\n",
    "reg.fit(ages_train,net_worths_train)\n",
    "\n",
    "# ### get Katie's net worth (she's 27)\n",
    "# ### sklearn predictions are returned in an array, so you'll want to index into\n",
    "# ### the output to get what you want, e.g. net_worth = predict([[27]])[0][0] (not\n",
    "# ### exact syntax, the point is the [0] at the end). In addition, make sure the\n",
    "# ### argument to your prediction function is in the expected format - if you get\n",
    "# ### a warning about needing a 2d array for your data, a list of lists will be\n",
    "# ### interpreted by sklearn as such (e.g. [[27]]).\n",
    "km_net_worth = reg.predict([[27]]) ### fill in the line of code to get the right value\n",
    "# ### get the slope\n",
    "# ### again, you'll get a 2-D array, so stick the [0][0] at the end\n",
    "slope = reg.coef_ ### fill in the line of code to get the right value\n",
    "\n",
    "# ### get the intercept\n",
    "# ### here you get a 1-D array, so stick [0] on the end to access\n",
    "# ### the info we want\n",
    "intercept = reg.intercept_ ### fill in the line of code to get the right value\n",
    "\n",
    "\n",
    "# ### get the score on test data\n",
    "test_score = reg.score(ages_test,net_worths_test) ### fill in the line of code to get the right value\n",
    "\n",
    "\n",
    "# ### get the score on the training data\n",
    "training_score = reg.score(ages_train,net_worths_train) ### fill in the line of code to get the right value\n",
    "\n",
    "def submitFit():\n",
    "    # all of the values in the returned dictionary are expected to be\n",
    "    # numbers for the purpose of the grader.\n",
    "    return {\"networth\":km_net_worth,\n",
    "            \"slope\":slope,\n",
    "            \"intercept\":intercept,\n",
    "            \"stats on test\":test_score,\n",
    "            \"stats on training\": training_score}\n",
    "submitFit()\n",
    "\n",
    "\n"
   ]
  },
  {
   "cell_type": "code",
   "execution_count": null,
   "metadata": {
    "collapsed": true
   },
   "outputs": [],
   "source": []
  }
 ],
 "metadata": {
  "anaconda-cloud": {},
  "kernelspec": {
   "display_name": "Python [Root]",
   "language": "python",
   "name": "Python [Root]"
  },
  "language_info": {
   "codemirror_mode": {
    "name": "ipython",
    "version": 2
   },
   "file_extension": ".py",
   "mimetype": "text/x-python",
   "name": "python",
   "nbconvert_exporter": "python",
   "pygments_lexer": "ipython2",
   "version": "2.7.12"
  }
 },
 "nbformat": 4,
 "nbformat_minor": 0
}
